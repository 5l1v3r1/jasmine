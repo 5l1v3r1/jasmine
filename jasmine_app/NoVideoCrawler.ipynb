{
 "cells": [
  {
   "cell_type": "code",
   "execution_count": 2,
   "metadata": {},
   "outputs": [],
   "source": [
    "import requests\n",
    "from bs4 import BeautifulSoup"
   ]
  },
  {
   "cell_type": "code",
   "execution_count": 3,
   "metadata": {},
   "outputs": [],
   "source": [
    "res=requests.get(\"https://93.91p26.space/v.php?next=watch\")"
   ]
  },
  {
   "cell_type": "code",
   "execution_count": 4,
   "metadata": {},
   "outputs": [],
   "source": [
    "soup=BeautifulSoup(res.text,\"html.parser\")"
   ]
  },
  {
   "cell_type": "code",
   "execution_count": 6,
   "metadata": {},
   "outputs": [],
   "source": [
    "results=soup.find_all(\"div\",{\"class\":\"listchannel\"})"
   ]
  },
  {
   "cell_type": "code",
   "execution_count": 8,
   "metadata": {},
   "outputs": [],
   "source": [
    "result=results[0]"
   ]
  },
  {
   "cell_type": "code",
   "execution_count": 10,
   "metadata": {},
   "outputs": [
    {
     "data": {
      "text/plain": [
       "'https://93.91p26.space/view_video.php?viewkey=a6b98e3bf14fdc0054ca&page=1&viewtype=basic&category=mr'"
      ]
     },
     "execution_count": 10,
     "metadata": {},
     "output_type": "execute_result"
    }
   ],
   "source": [
    "result.find('a')[\"href\"]"
   ]
  },
  {
   "cell_type": "code",
   "execution_count": 11,
   "metadata": {},
   "outputs": [
    {
     "data": {
      "text/plain": [
       "<div class=\"listchannel\">\n",
       "<div class=\"imagechannel\">\n",
       "<a href=\"https://93.91p26.space/view_video.php?viewkey=a6b98e3bf14fdc0054ca&amp;page=1&amp;viewtype=basic&amp;category=mr\" target=\"blank\">\n",
       "<img height=\"90\" src=\"http://img.t6k.co/thumb/2_306583.jpg\" title=\"Creampie tender pussy - big hole\" width=\"120\"/>\n",
       "</a>\n",
       "</div>\n",
       "<a href=\"https://93.91p26.space/view_video.php?viewkey=a6b98e3bf14fdc0054ca&amp;page=1&amp;viewtype=basic&amp;category=mr\" target=\"blank\" title=\"Creampie tender pussy - big hole\">\n",
       "<span class=\"title\">Creampie tender pussy...</span>\n",
       "</a>\n",
       "<br/>\n",
       "<span class=\"info\">Runtime:</span>01:24\n",
       "                <br/>\n",
       "<span class=\"info\">Added:</span>  12 minutes  ago <br/>\n",
       "<span class=\"info\">From:</span> \n",
       "                momo_momo<br/>\n",
       "<span class=\"info\">Views:</span> 0  <span class=\"info\">Favorites:</span> 0<br/>\n",
       "<span class=\"info\">Comments:</span> 0 <span class=\"info\">Point:</span> 0\n",
       "                <br/>\n",
       "<div class=\"startratebox\">\n",
       "<span class=\"info\">Not yet rated</span>\n",
       "</div>\n",
       "</div>"
      ]
     },
     "execution_count": 11,
     "metadata": {},
     "output_type": "execute_result"
    }
   ],
   "source": [
    "result"
   ]
  },
  {
   "cell_type": "code",
   "execution_count": 46,
   "metadata": {},
   "outputs": [
    {
     "data": {
      "text/plain": [
       "'Creampie tender pussy...'"
      ]
     },
     "execution_count": 46,
     "metadata": {},
     "output_type": "execute_result"
    }
   ],
   "source": [
    "result.find(\"span\",{\"class\":\"title\"}).text.strip()"
   ]
  },
  {
   "cell_type": "code",
   "execution_count": 42,
   "metadata": {},
   "outputs": [
    {
     "name": "stdout",
     "output_type": "stream",
     "text": [
      "01:24\n",
      "12 minutes  ago\n",
      "momo_momo\n",
      "0\n",
      "0\n",
      "0\n",
      "0\n",
      "\n"
     ]
    }
   ],
   "source": [
    "for each in result.find_all(\"span\",{\"class\":\"info\"}):\n",
    "\n",
    "    print(each.next_element.next_element.strip())\n"
   ]
  },
  {
   "cell_type": "code",
   "execution_count": 52,
   "metadata": {},
   "outputs": [
    {
     "data": {
      "text/plain": [
       "'Not yet rated'"
      ]
     },
     "execution_count": 52,
     "metadata": {},
     "output_type": "execute_result"
    }
   ],
   "source": [
    "result.find(\"div\",{\"class\":\"startratebox\"}).find(\"span\").text"
   ]
  },
  {
   "cell_type": "code",
   "execution_count": 61,
   "metadata": {},
   "outputs": [],
   "source": [
    "image_result=results[9\n",
    "    ]"
   ]
  },
  {
   "cell_type": "code",
   "execution_count": 64,
   "metadata": {},
   "outputs": [
    {
     "data": {
      "text/plain": [
       "'\\xa0\\xa0\\xa0\\xa0'"
      ]
     },
     "execution_count": 64,
     "metadata": {},
     "output_type": "execute_result"
    }
   ],
   "source": [
    "image_result.find(\"div\",{\"class\":\"startratebox\"}).find(\"span\").text"
   ]
  },
  {
   "cell_type": "code",
   "execution_count": 65,
   "metadata": {},
   "outputs": [
    {
     "data": {
      "text/plain": [
       "<div class=\"listchannel\">\n",
       "<div class=\"imagechannel\">\n",
       "<a href=\"https://93.91p26.space/view_video.php?viewkey=301aa014c81476bda774&amp;page=1&amp;viewtype=basic&amp;category=mr\" target=\"blank\">\n",
       "<img height=\"90\" src=\"http://img.t6k.co/thumb/1_306570.jpg\" title=\"Friends around Xi'an\" width=\"120\"/>\n",
       "</a>\n",
       "</div>\n",
       "<a href=\"https://93.91p26.space/view_video.php?viewkey=301aa014c81476bda774&amp;page=1&amp;viewtype=basic&amp;category=mr\" target=\"blank\" title=\"Friends around Xi'an\">\n",
       "<span class=\"title\">Friends around Xi'...</span>\n",
       "</a>\n",
       "<br/>\n",
       "<span class=\"info\">Runtime:</span>01:09\n",
       "                <br/>\n",
       "<span class=\"info\">Added:</span>  3 hours  ago <br/>\n",
       "<span class=\"info\">From:</span> \n",
       "                wf1991111.<br/>\n",
       "<span class=\"info\">Views:</span> 1533  <span class=\"info\">Favorites:</span> 14<br/>\n",
       "<span class=\"info\">Comments:</span> 0 <span class=\"info\">Point:</span> 0\n",
       "                <br/>\n",
       "<div class=\"startratebox\">\n",
       "<span class=\"info\"><img src=\"https://93.91p26.space/images/tpl_icon_star_full.gif\" width=\"11\"/> <img src=\"https://93.91p26.space/images/tpl_icon_star_full.gif\" width=\"11\"/> <img src=\"https://93.91p26.space/images/tpl_icon_star_full.gif\" width=\"11\"/> <img src=\"https://93.91p26.space/images/tpl_icon_star_full.gif\" width=\"11\"/> <img src=\"https://93.91p26.space/images/tpl_icon_star_empty.gif\" width=\"11\"/></span>\n",
       "</div>\n",
       "</div>"
      ]
     },
     "execution_count": 65,
     "metadata": {},
     "output_type": "execute_result"
    }
   ],
   "source": [
    "image_result\n"
   ]
  },
  {
   "cell_type": "code",
   "execution_count": 68,
   "metadata": {},
   "outputs": [
    {
     "data": {
      "text/plain": [
       "<div class=\"listchannel\">\n",
       "<div class=\"imagechannelhd\">\n",
       "<img alt=\"\" class=\"png-over\" src=\"/images/hd.png\"/>\n",
       "<a href=\"https://93.91p26.space/view_video.php?viewkey=1d76769c88cdeaf56dab&amp;page=1&amp;viewtype=basic&amp;category=mr\" target=\"blank\">\n",
       "<img height=\"90\" src=\"http://img.t6k.co/thumb/1_306567.jpg\" title=\"My big ass! Start verification\" width=\"120\">\n",
       "</img></a>\n",
       "</div>\n",
       "<a href=\"https://93.91p26.space/view_video.php?viewkey=1d76769c88cdeaf56dab&amp;page=1&amp;viewtype=basic&amp;category=mr\" target=\"blank\" title=\"My big ass! Start verification\">\n",
       "<span class=\"title\">My big ass! Start ver...</span>\n",
       "</a>\n",
       "<br/>\n",
       "<span class=\"info\">Runtime:</span>02:06\n",
       "                <br/>\n",
       "<span class=\"info\">Added:</span>  4 hours  ago <br/>\n",
       "<span class=\"info\">From:</span> \n",
       "                liuyizui<br/>\n",
       "<span class=\"info\">Views:</span> 2555  <span class=\"info\">Favorites:</span> 0<br/>\n",
       "<span class=\"info\">Comments:</span> 0 <span class=\"info\">Point:</span> 0\n",
       "                <br/>\n",
       "<div class=\"startratebox\">\n",
       "<span class=\"info\"><img src=\"https://93.91p26.space/images/tpl_icon_star_full.gif\" width=\"11\"/> <img src=\"https://93.91p26.space/images/tpl_icon_star_full.gif\" width=\"11\"/> <img src=\"https://93.91p26.space/images/tpl_icon_star_full.gif\" width=\"11\"/> <img src=\"https://93.91p26.space/images/tpl_icon_star_full.gif\" width=\"11\"/> <img src=\"https://93.91p26.space/images/tpl_icon_star_full.gif\" width=\"11\"/> </span>\n",
       "</div>\n",
       "</div>"
      ]
     },
     "execution_count": 68,
     "metadata": {},
     "output_type": "execute_result"
    }
   ],
   "source": [
    "results[12]"
   ]
  },
  {
   "cell_type": "code",
   "execution_count": 70,
   "metadata": {},
   "outputs": [],
   "source": [
    "a=results[12].find(\"div\",{\"class\":\"startratebox\"}).find(\"span\").text"
   ]
  },
  {
   "cell_type": "code",
   "execution_count": 78,
   "metadata": {},
   "outputs": [
    {
     "data": {
      "text/plain": [
       "'\\xa0\\xa0\\xa0\\xa0\\xa0'"
      ]
     },
     "execution_count": 78,
     "metadata": {},
     "output_type": "execute_result"
    }
   ],
   "source": [
    "a"
   ]
  },
  {
   "cell_type": "code",
   "execution_count": 82,
   "metadata": {},
   "outputs": [
    {
     "data": {
      "text/plain": [
       "['', '', '', '', '', '']"
      ]
     },
     "execution_count": 82,
     "metadata": {},
     "output_type": "execute_result"
    }
   ],
   "source": [
    "a.split(\"\\xa0\")"
   ]
  },
  {
   "cell_type": "code",
   "execution_count": 91,
   "metadata": {},
   "outputs": [],
   "source": [
    "video_html_url=image_result.find('a')['href']"
   ]
  },
  {
   "cell_type": "code",
   "execution_count": 92,
   "metadata": {},
   "outputs": [
    {
     "data": {
      "text/plain": [
       "'https://93.91p26.space/view_video.php?viewkey=301aa014c81476bda774&page=1&viewtype=basic&category=mr'"
      ]
     },
     "execution_count": 92,
     "metadata": {},
     "output_type": "execute_result"
    }
   ],
   "source": [
    "video_html_url"
   ]
  },
  {
   "cell_type": "code",
   "execution_count": 95,
   "metadata": {},
   "outputs": [],
   "source": [
    "image_res=requests.get('https://93.91p26.space/view_video.php?viewkey=301aa014c81476bda774&page=1&viewtype=basic&category=mr',timeout=2\n",
    "                      ,headers={\"User-Agent\":\"Mozilla/5.0 (Macintosh; Intel Mac OS X 10_14_2) AppleWebKit/537.36 (KHTML, like Gecko) Chrome/72.0.3626.121 Safari/537.36\"}\n",
    "                      \n",
    "                      )"
   ]
  },
  {
   "cell_type": "code",
   "execution_count": 96,
   "metadata": {},
   "outputs": [
    {
     "data": {
      "text/plain": [
       "<Response [200]>"
      ]
     },
     "execution_count": 96,
     "metadata": {},
     "output_type": "execute_result"
    }
   ],
   "source": [
    "image_res\n"
   ]
  },
  {
   "cell_type": "code",
   "execution_count": 97,
   "metadata": {},
   "outputs": [],
   "source": [
    "video_bs=BeautifulSoup(image_res.text,'html.parser')"
   ]
  },
  {
   "cell_type": "code",
   "execution_count": 98,
   "metadata": {},
   "outputs": [
    {
     "data": {
      "text/plain": [
       "'http://192.240.120.34//mp43/306570.mp4?st=a-BoK8s83qEUcS1O2ABX-Q&e=1552271514'"
      ]
     },
     "execution_count": 98,
     "metadata": {},
     "output_type": "execute_result"
    }
   ],
   "source": [
    "video_bs.find(\"source\")['src']"
   ]
  },
  {
   "cell_type": "code",
   "execution_count": null,
   "metadata": {},
   "outputs": [],
   "source": []
  }
 ],
 "metadata": {
  "kernelspec": {
   "display_name": "Python 3",
   "language": "python",
   "name": "python3"
  },
  "language_info": {
   "codemirror_mode": {
    "name": "ipython",
    "version": 3
   },
   "file_extension": ".py",
   "mimetype": "text/x-python",
   "name": "python",
   "nbconvert_exporter": "python",
   "pygments_lexer": "ipython3",
   "version": "3.6.7"
  }
 },
 "nbformat": 4,
 "nbformat_minor": 2
}
